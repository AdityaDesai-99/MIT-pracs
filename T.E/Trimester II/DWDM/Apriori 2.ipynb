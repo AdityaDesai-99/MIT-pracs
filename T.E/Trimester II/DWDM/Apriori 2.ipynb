{
 "cells": [
  {
   "cell_type": "code",
   "execution_count": 19,
   "metadata": {},
   "outputs": [],
   "source": [
    "# Importing Libraries\n",
    "import numpy as np\n",
    "import itertools"
   ]
  },
  {
   "cell_type": "code",
   "execution_count": 20,
   "metadata": {},
   "outputs": [],
   "source": [
    "#Transaction example from Han-Kamber\n",
    "transactions = [['1','2','5','nan'],['2','4','nan','nan'],['2','3','nan','nan'],['1','2','4','nan'],['1','3','nan','nan'],['2','3','nan','nan'],['1','3','nan','nan'],['1','2','3','5'],['1','2','3','nan']]"
   ]
  },
  {
   "cell_type": "code",
   "execution_count": 21,
   "metadata": {},
   "outputs": [],
   "source": [
    "def cal_support(collection,transactions):\n",
    "    '''\n",
    "    Calculates support for a collection\n",
    "    '''\n",
    "    support = dict()\n",
    "    for x in collection:\n",
    "        ##Adding support to the dictionary\n",
    "        support[str(x)] = len( [ i for i in transactions if set(x).issubset(set(i)) ] ) / len(transactions)\n",
    "    return support"
   ]
  },
  {
   "cell_type": "code",
   "execution_count": 22,
   "metadata": {},
   "outputs": [],
   "source": [
    "def cal_confidence(x,y,transactions):\n",
    "    '''\n",
    "    Calculate confidence the given association rule\n",
    "    '''\n",
    "    ## returning the confidence of the list\n",
    "    confidence =len( [i for i in transactions if set(x+y).issubset(set(i))] )/len( [j for j in transactions if set(x).issubset(set(j))] )\n",
    "    return confidence"
   ]
  },
  {
   "cell_type": "code",
   "execution_count": 23,
   "metadata": {},
   "outputs": [],
   "source": [
    "def powerset(iterable):\n",
    "    '''\n",
    "    Generates a powerset from a tupel\n",
    "    '''\n",
    "    s = list(iterable)\n",
    "    return list(itertools.chain.from_iterable(itertools.combinations(s, r) for r in range(len(s)+1)))[1:]"
   ]
  },
  {
   "cell_type": "code",
   "execution_count": 24,
   "metadata": {},
   "outputs": [],
   "source": [
    "def apriori_rulegen(transactions,threshold_support = 0.2,threshold_confidence = 0.7):\n",
    "    \n",
    "    '''\n",
    "    Input: Transactions + thresholds\n",
    "    Output: Set of association rules\n",
    "    '''\n",
    "    #Getting a list of all items\n",
    "    all_items = [[j] for j in list(set([i for i in np.array(transactions).reshape(-1) if i != 'nan']))]\n",
    "    associated_groups = []\n",
    "    order = 2\n",
    "    #Iter till no more items can be grouped\n",
    "    while len(all_items) != 0 :\n",
    "        support = cal_support(all_items, transactions)\n",
    "        for x in all_items:\n",
    "            #Comparing support with threshold\n",
    "            if support[str(x)] > threshold_support:\n",
    "                associated_groups.append((x,support[str(x)]))\n",
    "\n",
    "        #Grouping elements\n",
    "        all_items = list(itertools.combinations(list(set(np.array(all_items).reshape(-1))),order))\n",
    "        #Incrementing grouping order\n",
    "        order += 1\n",
    "\n",
    "    #Removing singles\n",
    "    associated_groups = [i for i in associated_groups if len(i[0])>1]\n",
    "\n",
    "    #For condifence\n",
    "    ordered_groups = []\n",
    "    for g,c in associated_groups:\n",
    "        for x,y in itertools.permutations(powerset(g),2):\n",
    "            if cal_confidence(x,y,transactions) > threshold_confidence and len(set(x+y)) == len(x) + len(y):\n",
    "                ordered_groups.append(\n",
    "                                      ((x,y),                  ##The Order\n",
    "                                       c,                  ##The Support\n",
    "                                       cal_confidence(x,y,transactions)   ##The Confidence\n",
    "                                      )  \n",
    "                                     ) \n",
    "\n",
    "\n",
    "    #(Association rule,support,confidence)\n",
    "    return set(ordered_groups)\n"
   ]
  },
  {
   "cell_type": "code",
   "execution_count": 25,
   "metadata": {},
   "outputs": [
    {
     "data": {
      "text/plain": [
       "{((('1', '5'), ('2',)), 0.2222222222222222, 1.0),\n",
       " ((('4',), ('2',)), 0.2222222222222222, 1.0),\n",
       " ((('5',), ('1',)), 0.2222222222222222, 1.0),\n",
       " ((('5',), ('1', '2')), 0.2222222222222222, 1.0),\n",
       " ((('5',), ('2',)), 0.2222222222222222, 1.0),\n",
       " ((('5', '2'), ('1',)), 0.2222222222222222, 1.0)}"
      ]
     },
     "execution_count": 25,
     "metadata": {},
     "output_type": "execute_result"
    }
   ],
   "source": [
    "#Final result\n",
    "apriori_rulegen(transactions)"
   ]
  },
  {
   "cell_type": "code",
   "execution_count": null,
   "metadata": {
    "collapsed": true
   },
   "outputs": [],
   "source": []
  }
 ],
 "metadata": {
  "kernelspec": {
   "display_name": "Python 3",
   "language": "python",
   "name": "python3"
  },
  "language_info": {
   "codemirror_mode": {
    "name": "ipython",
    "version": 3
   },
   "file_extension": ".py",
   "mimetype": "text/x-python",
   "name": "python",
   "nbconvert_exporter": "python",
   "pygments_lexer": "ipython3",
   "version": "3.7.4"
  }
 },
 "nbformat": 4,
 "nbformat_minor": 2
}
